{
 "cells": [
  {
   "cell_type": "code",
   "execution_count": 1,
   "metadata": {},
   "outputs": [],
   "source": [
    "import networkx as nx\n",
    "import gzip\n",
    "from scipy.sparse import csc_array\n",
    "from newnetprop import netprop\n",
    "import numpy as np\n",
    "import matplotlib.pyplot as plt\n",
    "import pandas as pd\n",
    "\n",
    "from cluster_drought_module_greedy import participation_coefficient\n",
    "from stringInteractions2namedInteractions import create_aliasdict"
   ]
  },
  {
   "cell_type": "code",
   "execution_count": 2,
   "metadata": {},
   "outputs": [],
   "source": [
    "proteindatafile = \"gz/39947.protein.links.v11.5.txt.gz\"\n",
    "proteindatafile = \"txt/ppi.tsv\"\n",
    "\n",
    "seedfile = \"txt/string_seeds.txt\""
   ]
  },
  {
   "cell_type": "code",
   "execution_count": 3,
   "metadata": {},
   "outputs": [],
   "source": [
    "# Create graph from file\n",
    "graph = nx.Graph()\n",
    "file = gzip.open(proteindatafile) if proteindatafile.split('.')[-1] == \"gz\" else open(proteindatafile)\n",
    "line = file.readline()\n",
    "line = file.readline()\n",
    "\n",
    "while line:\n",
    "    line = line.strip(' ').split()\n",
    "    line[-1] = int(line[-1])\n",
    "    \n",
    "    graph.add_edge(line[0],line[1],weight=line[-1])\n",
    "\n",
    "    line = file.readline()\n",
    "\n",
    "file.close()\n",
    "\n",
    "# Get seed list\n",
    "with open(seedfile) as file:\n",
    "    seeds = [line.strip() for line in file.readlines()]\n",
    "seeds = set(seeds)\n",
    "\n",
    "# Mark seed proteins\n",
    "for node in seeds:\n",
    "        try:\n",
    "            graph.nodes[node]['isSeed'] = True\n",
    "        except KeyError:\n",
    "            continue"
   ]
  },
  {
   "cell_type": "code",
   "execution_count": 4,
   "metadata": {},
   "outputs": [
    {
     "name": "stderr",
     "output_type": "stream",
     "text": [
      "c:\\Users\\weera\\gitrepos\\NpropRice\\newnetprop.py:44: FutureWarning: adjacency_matrix will return a scipy.sparse array instead of a matrix in Networkx 3.0.\n",
      "  A = csc_array(nx.adjacency_matrix(graph),dtype=\"float64\")\n"
     ]
    }
   ],
   "source": [
    "# Do RWR and assign probability scores\n",
    "output_probs = netprop(graph,seeds)\n",
    "output_probs = output_probs.reshape(output_probs.shape[0])\n",
    "\n",
    "graphnodes = graph.nodes.items\n",
    "outputs = {}\n",
    "for node,score in zip(list(graph.nodes),output_probs):\n",
    "    outputs[node] = float(score)\n",
    "\n",
    "nx.set_node_attributes(graph,outputs,'rwr')"
   ]
  },
  {
   "cell_type": "code",
   "execution_count": 5,
   "metadata": {},
   "outputs": [],
   "source": [
    "aliases = create_aliasdict(\"gz/39947.protein.aliases.v11.5.txt.gz\")\n",
    "func = lambda x: [(key,val['BLAST_UniProt_ID']) for key,val in x.items()]\n",
    "uniprots = dict(func(aliases))"
   ]
  },
  {
   "cell_type": "code",
   "execution_count": 6,
   "metadata": {},
   "outputs": [],
   "source": [
    "def top_nodes_subgraph(graph,scorelist,topnum=0,minnum=0.05,attr='rwr'):\n",
    "\n",
    "    out_idx = np.argsort(scorelist)\n",
    "    nodelist = list(graph.nodes)\n",
    "    sortednodes = [nodelist[i] for i in out_idx if graph.nodes[nodelist[i]][attr] >= minnum]\n",
    "    sub = graph.subgraph(sortednodes[-1*topnum:])\n",
    "\n",
    "    return sub"
   ]
  },
  {
   "cell_type": "code",
   "execution_count": 7,
   "metadata": {},
   "outputs": [],
   "source": [
    "nodeslist = []\n",
    "scoreslist = []\n",
    "\n",
    "for cutoff in range(100,501,50):\n",
    "    sub = top_nodes_subgraph(graph,output_probs,cutoff,minnum=0.01)\n",
    "    louvain = nx.community.louvain_communities(sub)\n",
    "\n",
    "    attrdict =  {}\n",
    "    for i,nodes_in_clust in enumerate(louvain):\n",
    "        for node in nodes_in_clust:\n",
    "            attrdict[node] = i+1\n",
    "    nx.set_node_attributes(sub,attrdict,'louvain')\n",
    "    \n",
    "    clustered = participation_coefficient(sub,'louvain')\n",
    "\n",
    "    relabeled = nx.relabel_nodes(clustered,uniprots)\n",
    "\n",
    "    temp = [(relabeled.nodes[node]['louvain_PC'],node) for node in relabeled.nodes]\n",
    "    temp.sort(reverse=True)\n",
    "    \n",
    "    nodeslist.append ( [i[1] for i in temp] )\n",
    "    scoreslist.append ( [i[0] for i in temp] )"
   ]
  },
  {
   "cell_type": "code",
   "execution_count": 8,
   "metadata": {},
   "outputs": [],
   "source": [
    "trimmednodes = [nlist for nlist in nodeslist]\n",
    "trimmedscores = [nlist for nlist in scoreslist]\n",
    "allnodes = list(set([item for nodelist in trimmednodes for item in nodelist]))"
   ]
  },
  {
   "cell_type": "code",
   "execution_count": 9,
   "metadata": {},
   "outputs": [],
   "source": [
    "scores = []\n",
    "for j,run in enumerate(trimmednodes):\n",
    "    runlist = [0]*len(allnodes)\n",
    "    for i,node in enumerate(run):\n",
    "        runlist[allnodes.index(node)] = trimmedscores[j][i]\n",
    "    scores.append(runlist)"
   ]
  },
  {
   "cell_type": "code",
   "execution_count": 10,
   "metadata": {},
   "outputs": [],
   "source": [
    "df = pd.DataFrame(scores)\n",
    "df.columns = allnodes\n",
    "\n",
    "test = df.sum(0)/df.shape[0]\n",
    "bestones = test.sort_values(ascending=False)"
   ]
  },
  {
   "cell_type": "code",
   "execution_count": 11,
   "metadata": {},
   "outputs": [],
   "source": [
    "reversed_uniprots = dict ( [(value,key) for key,value in uniprots.items()])\n",
    "stringIDsOfHubs = [reversed_uniprots[i] for i in bestones.index]\n",
    "isSeed = [hub in seeds for hub in stringIDsOfHubs]"
   ]
  },
  {
   "cell_type": "code",
   "execution_count": 12,
   "metadata": {},
   "outputs": [],
   "source": [
    "avgdf = pd.DataFrame(bestones)\n",
    "avgdf[2] = isSeed"
   ]
  },
  {
   "cell_type": "code",
   "execution_count": 13,
   "metadata": {},
   "outputs": [
    {
     "data": {
      "text/html": [
       "<div>\n",
       "<style scoped>\n",
       "    .dataframe tbody tr th:only-of-type {\n",
       "        vertical-align: middle;\n",
       "    }\n",
       "\n",
       "    .dataframe tbody tr th {\n",
       "        vertical-align: top;\n",
       "    }\n",
       "\n",
       "    .dataframe thead th {\n",
       "        text-align: right;\n",
       "    }\n",
       "</style>\n",
       "<table border=\"1\" class=\"dataframe\">\n",
       "  <thead>\n",
       "    <tr style=\"text-align: right;\">\n",
       "      <th></th>\n",
       "      <th>0</th>\n",
       "      <th>2</th>\n",
       "    </tr>\n",
       "  </thead>\n",
       "  <tbody>\n",
       "    <tr>\n",
       "      <th>SIK1_ORYSJ</th>\n",
       "      <td>1.000000</td>\n",
       "      <td>True</td>\n",
       "    </tr>\n",
       "    <tr>\n",
       "      <th>Q0J3I9_ORYSJ</th>\n",
       "      <td>0.637768</td>\n",
       "      <td>False</td>\n",
       "    </tr>\n",
       "    <tr>\n",
       "      <th>Q6ZLF1_ORYSJ</th>\n",
       "      <td>0.637768</td>\n",
       "      <td>False</td>\n",
       "    </tr>\n",
       "    <tr>\n",
       "      <th>Q650T3_ORYSJ</th>\n",
       "      <td>0.608993</td>\n",
       "      <td>False</td>\n",
       "    </tr>\n",
       "    <tr>\n",
       "      <th>Q3V826_ORYSJ</th>\n",
       "      <td>0.567654</td>\n",
       "      <td>False</td>\n",
       "    </tr>\n",
       "    <tr>\n",
       "      <th>B7F9I5_ORYSJ</th>\n",
       "      <td>0.561168</td>\n",
       "      <td>False</td>\n",
       "    </tr>\n",
       "    <tr>\n",
       "      <th>SLR1_ORYSJ</th>\n",
       "      <td>0.561168</td>\n",
       "      <td>False</td>\n",
       "    </tr>\n",
       "    <tr>\n",
       "      <th>A0A0P0VDV3_ORYSJ</th>\n",
       "      <td>0.549380</td>\n",
       "      <td>False</td>\n",
       "    </tr>\n",
       "    <tr>\n",
       "      <th>A0A0N7KEK0_ORYSJ</th>\n",
       "      <td>0.549380</td>\n",
       "      <td>False</td>\n",
       "    </tr>\n",
       "    <tr>\n",
       "      <th>Q7XR67_ORYSJ</th>\n",
       "      <td>0.548405</td>\n",
       "      <td>False</td>\n",
       "    </tr>\n",
       "    <tr>\n",
       "      <th>TI11C_ORYSJ</th>\n",
       "      <td>0.543354</td>\n",
       "      <td>False</td>\n",
       "    </tr>\n",
       "    <tr>\n",
       "      <th>DRE1G_ORYSJ</th>\n",
       "      <td>0.528203</td>\n",
       "      <td>False</td>\n",
       "    </tr>\n",
       "    <tr>\n",
       "      <th>MYBS3_ORYSJ</th>\n",
       "      <td>0.518519</td>\n",
       "      <td>False</td>\n",
       "    </tr>\n",
       "    <tr>\n",
       "      <th>PYL9_ORYSJ</th>\n",
       "      <td>0.518461</td>\n",
       "      <td>True</td>\n",
       "    </tr>\n",
       "    <tr>\n",
       "      <th>TI11B_ORYSJ</th>\n",
       "      <td>0.511810</td>\n",
       "      <td>False</td>\n",
       "    </tr>\n",
       "    <tr>\n",
       "      <th>C7J9S7_ORYSJ</th>\n",
       "      <td>0.506736</td>\n",
       "      <td>False</td>\n",
       "    </tr>\n",
       "    <tr>\n",
       "      <th>IAA10_ORYSJ</th>\n",
       "      <td>0.506296</td>\n",
       "      <td>False</td>\n",
       "    </tr>\n",
       "    <tr>\n",
       "      <th>TPR3_ORYSJ</th>\n",
       "      <td>0.504634</td>\n",
       "      <td>True</td>\n",
       "    </tr>\n",
       "    <tr>\n",
       "      <th>DRE2A_ORYSJ</th>\n",
       "      <td>0.503617</td>\n",
       "      <td>False</td>\n",
       "    </tr>\n",
       "    <tr>\n",
       "      <th>A0A0P0VFV4_ORYSJ</th>\n",
       "      <td>0.503164</td>\n",
       "      <td>False</td>\n",
       "    </tr>\n",
       "    <tr>\n",
       "      <th>BZP23_ORYSJ</th>\n",
       "      <td>0.501571</td>\n",
       "      <td>True</td>\n",
       "    </tr>\n",
       "    <tr>\n",
       "      <th>BZP46_ORYSJ</th>\n",
       "      <td>0.501571</td>\n",
       "      <td>True</td>\n",
       "    </tr>\n",
       "    <tr>\n",
       "      <th>TRAB1_ORYSJ</th>\n",
       "      <td>0.501571</td>\n",
       "      <td>False</td>\n",
       "    </tr>\n",
       "    <tr>\n",
       "      <th>Q84M80_ORYSJ</th>\n",
       "      <td>0.501048</td>\n",
       "      <td>False</td>\n",
       "    </tr>\n",
       "  </tbody>\n",
       "</table>\n",
       "</div>"
      ],
      "text/plain": [
       "                         0      2\n",
       "SIK1_ORYSJ        1.000000   True\n",
       "Q0J3I9_ORYSJ      0.637768  False\n",
       "Q6ZLF1_ORYSJ      0.637768  False\n",
       "Q650T3_ORYSJ      0.608993  False\n",
       "Q3V826_ORYSJ      0.567654  False\n",
       "B7F9I5_ORYSJ      0.561168  False\n",
       "SLR1_ORYSJ        0.561168  False\n",
       "A0A0P0VDV3_ORYSJ  0.549380  False\n",
       "A0A0N7KEK0_ORYSJ  0.549380  False\n",
       "Q7XR67_ORYSJ      0.548405  False\n",
       "TI11C_ORYSJ       0.543354  False\n",
       "DRE1G_ORYSJ       0.528203  False\n",
       "MYBS3_ORYSJ       0.518519  False\n",
       "PYL9_ORYSJ        0.518461   True\n",
       "TI11B_ORYSJ       0.511810  False\n",
       "C7J9S7_ORYSJ      0.506736  False\n",
       "IAA10_ORYSJ       0.506296  False\n",
       "TPR3_ORYSJ        0.504634   True\n",
       "DRE2A_ORYSJ       0.503617  False\n",
       "A0A0P0VFV4_ORYSJ  0.503164  False\n",
       "BZP23_ORYSJ       0.501571   True\n",
       "BZP46_ORYSJ       0.501571   True\n",
       "TRAB1_ORYSJ       0.501571  False\n",
       "Q84M80_ORYSJ      0.501048  False"
      ]
     },
     "execution_count": 13,
     "metadata": {},
     "output_type": "execute_result"
    }
   ],
   "source": [
    "avgdf[avgdf[0] > 0.5]"
   ]
  },
  {
   "cell_type": "code",
   "execution_count": 14,
   "metadata": {},
   "outputs": [
    {
     "data": {
      "text/plain": [
       "313"
      ]
     },
     "execution_count": 14,
     "metadata": {},
     "output_type": "execute_result"
    }
   ],
   "source": [
    "len(avgdf.index)"
   ]
  }
 ],
 "metadata": {
  "kernelspec": {
   "display_name": "Python 3",
   "language": "python",
   "name": "python3"
  },
  "language_info": {
   "codemirror_mode": {
    "name": "ipython",
    "version": 3
   },
   "file_extension": ".py",
   "mimetype": "text/x-python",
   "name": "python",
   "nbconvert_exporter": "python",
   "pygments_lexer": "ipython3",
   "version": "3.8.0"
  },
  "orig_nbformat": 4
 },
 "nbformat": 4,
 "nbformat_minor": 2
}
